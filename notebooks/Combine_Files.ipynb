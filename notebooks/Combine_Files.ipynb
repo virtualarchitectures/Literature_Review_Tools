{
 "cells": [
  {
   "cell_type": "markdown",
   "metadata": {},
   "source": [
    "# Combine Files\n",
    "\n",
    "This notebook contains functions to combine multiple CSV files or multiple JSON files into a single file.\n",
    "\n",
    "**Note:** This script assumes that all the files in the specified folder have the same column structure."
   ]
  },
  {
   "cell_type": "markdown",
   "metadata": {},
   "source": [
    "## Import Dependencies"
   ]
  },
  {
   "cell_type": "code",
   "execution_count": null,
   "metadata": {},
   "outputs": [],
   "source": [
    "import os\n",
    "import pandas as pd"
   ]
  },
  {
   "cell_type": "markdown",
   "metadata": {},
   "source": [
    "## Set Variables"
   ]
  },
  {
   "cell_type": "code",
   "execution_count": null,
   "metadata": {},
   "outputs": [],
   "source": [
    "input_folder = 'data/'\n",
    "output_folder = 'data/'\n",
    "output_filename = 'combined'"
   ]
  },
  {
   "cell_type": "markdown",
   "metadata": {},
   "source": [
    "## Combine CSV Files"
   ]
  },
  {
   "cell_type": "code",
   "execution_count": null,
   "metadata": {},
   "outputs": [],
   "source": [
    "# Step 1: Loop through CSV files in a folder\n",
    "csv_files = [file for file in os.listdir(input_folder) if file.endswith('.csv')]\n",
    "\n",
    "# Step 2: Combine contents of each file into a single pandas dataframe\n",
    "df_combined = pd.DataFrame()\n",
    "for file in csv_files:\n",
    "    file_path = os.path.join(input_folder, file)\n",
    "    df = pd.read_csv(file_path)\n",
    "    df_combined = pd.concat([df_combined, df], ignore_index=True)\n",
    "\n",
    "print(len(df_combined))\n",
    "\n",
    "# Step 3: Remove Duplicates\n",
    "df_combined.drop_duplicates(ignore_index=True).reset_index(drop=True)\n",
    "\n",
    "print(len(df_combined))\n",
    "\n",
    "# Step 4: Export the pandas dataframe\n",
    "output_file_path = f'{output_folder}{output_filename}.csv'\n",
    "df_combined.to_csv(output_file_path, index=False, encoding='utf-8-sig')"
   ]
  },
  {
   "cell_type": "markdown",
   "metadata": {},
   "source": [
    "## Combine JSON Files"
   ]
  },
  {
   "cell_type": "code",
   "execution_count": null,
   "metadata": {},
   "outputs": [],
   "source": [
    "# Step 1: Loop through JSON files in a folder\n",
    "json_files = [file for file in os.listdir(input_folder) if file.endswith('.json')]\n",
    "\n",
    "# Step 2: Combine contents of each file into a single pandas dataframe\n",
    "df_combined = pd.DataFrame()\n",
    "for file in json_files:\n",
    "    file_path = os.path.join(input_folder, file)\n",
    "    df = pd.read_json(file_path)\n",
    "    df_combined = pd.concat([df_combined, df], ignore_index=True)\n",
    "\n",
    "print(len(df_combined))\n",
    "\n",
    "# Step 3: Remove Duplicates\n",
    "df_combined.drop_duplicates(ignore_index=True).reset_index(drop=True)\n",
    "\n",
    "print(len(df_combined))\n",
    "\n",
    "# Step 3: Export the pandas dataframe\n",
    "output_file_path = f'{output_folder}{output_filename}.json'\n",
    "df_combined.to_json(output_file_path, orient='records', lines=False)"
   ]
  },
  {
   "cell_type": "code",
   "execution_count": null,
   "metadata": {},
   "outputs": [],
   "source": []
  }
 ],
 "metadata": {
  "kernelspec": {
   "display_name": "Literature_Review_Tools",
   "language": "python",
   "name": "python3"
  },
  "language_info": {
   "codemirror_mode": {
    "name": "ipython",
    "version": 3
   },
   "file_extension": ".py",
   "mimetype": "text/x-python",
   "name": "python",
   "nbconvert_exporter": "python",
   "pygments_lexer": "ipython3",
   "version": "3.10.11"
  },
  "orig_nbformat": 4
 },
 "nbformat": 4,
 "nbformat_minor": 2
}
