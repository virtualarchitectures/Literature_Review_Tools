{
 "cells": [
  {
   "cell_type": "markdown",
   "metadata": {},
   "source": [
    "# Reviewing Trending Keywords on Google Trends"
   ]
  },
  {
   "cell_type": "markdown",
   "metadata": {},
   "source": [
    "Pytrends provides an interface for automating the download of reports from [Google Trends](https://trends.google.com/trends/).\n",
    "\n",
    "Google Trends provides data on the relative popularity of certain keywords dating back to 2004. For further information see the [Google Trends FAQ](https://support.google.com/trends/answer/4365533).\n",
    "\n",
    "**Installation**\n",
    "\n",
    "To use this notebook you need to install the Pytrends module from the command line using `pip install pytrends`.\n",
    "\n",
    "**Documentation**\n",
    "\n",
    "- Pytrends GitHub repository: https://github.com/GeneralMills/pytrends\n",
    "\n",
    "**User Guide**\n",
    "- The Ultimate Guide To PyTrends: The Google Trends API (With Python Code Examples): https://lazarinastoy.com/the-ultimate-guide-to-pytrends-google-trends-api-with-python/"
   ]
  },
  {
   "cell_type": "markdown",
   "metadata": {},
   "source": [
    "# Import Libraries"
   ]
  },
  {
   "cell_type": "code",
   "execution_count": null,
   "metadata": {},
   "outputs": [],
   "source": [
    "from pytrends.request import TrendReq\n",
    "import pandas as pd\n",
    "\n",
    "import matplotlib.pyplot as plt"
   ]
  },
  {
   "cell_type": "markdown",
   "metadata": {},
   "source": [
    "# Request Keyword Suggestions\n",
    "\n",
    "This returns the results from the \"Add a search term\" input box in the Google Trends user interface. "
   ]
  },
  {
   "cell_type": "code",
   "execution_count": null,
   "metadata": {},
   "outputs": [],
   "source": [
    "pytrends = TrendReq()\n",
    "keywords = input('Enter search term or phrase: ')\n",
    "suggestions_df = pd.DataFrame(pytrends.suggestions(keywords))\n",
    "suggestions_df"
   ]
  },
  {
   "cell_type": "markdown",
   "metadata": {},
   "source": [
    "# Build Keyword List\n",
    "\n",
    "Google Trends allows a maximum of 5 keywords comparison at a time."
   ]
  },
  {
   "cell_type": "code",
   "execution_count": null,
   "metadata": {},
   "outputs": [],
   "source": [
    "pytrends = TrendReq()\n",
    "kw_list=[]\n",
    "\n",
    "# User sets number of search terms\n",
    "n = int(input('Select number of search terms (1 - 5) : '))\n",
    " \n",
    "# User provides keywords\n",
    "for i in range(0, n):\n",
    "    kw = input('Enter search word or phrase #{}: '.format(str(i+1)))\n",
    "    # Add keyword to list\n",
    "    kw_list.append(kw)\n",
    "\n",
    "# User sets time period\n",
    "date_from = input('Set date from (YYYY-MM-DD): ')\n",
    "date_to = input('Set date to (YYYY-MM-DD): ')\n",
    "\n",
    "pytrends.build_payload(kw_list, timeframe = '{} {}'.format(date_from, date_to))\n",
    "\n",
    "print('Selected search terms: ' + str(kw_list))"
   ]
  },
  {
   "cell_type": "markdown",
   "metadata": {},
   "source": [
    "# Request Interest Over Time"
   ]
  },
  {
   "cell_type": "code",
   "execution_count": null,
   "metadata": {},
   "outputs": [],
   "source": [
    "time_df = pytrends.interest_over_time()\n",
    "time_df.head()"
   ]
  },
  {
   "cell_type": "markdown",
   "metadata": {},
   "source": [
    "#### Save dataframe to CSV\n",
    "\n",
    "A folder called 'data' needs to be added to the folder containing this Jupyter notebook before writing the file."
   ]
  },
  {
   "cell_type": "code",
   "execution_count": null,
   "metadata": {},
   "outputs": [],
   "source": [
    "time_df.to_csv('data/' + '{}_{}_{}_Google_Trends_Over_Time'.format(kw_list[0].replace(' ', '_'), date_from, date_to).replace('-', '_') + '.csv')"
   ]
  },
  {
   "cell_type": "markdown",
   "metadata": {},
   "source": [
    "#### Plot Interest Over Time"
   ]
  },
  {
   "cell_type": "code",
   "execution_count": null,
   "metadata": {},
   "outputs": [],
   "source": [
    "# Plot Interest Over Time\n",
    "plt = time_df.plot.line(figsize = (16,9), title = 'Relative Search Interest Over Time between {} and {} (Google Trends)'.format(date_from, date_to))\n",
    "plt.set_xlabel('Date')\n",
    "plt.set_ylabel('Relative Search Interest')\n",
    "plt.legend(loc='best')\n",
    "plt.tick_params(axis='both', which='major', labelsize=12)"
   ]
  },
  {
   "cell_type": "markdown",
   "metadata": {},
   "source": [
    "# Request Interest by Region"
   ]
  },
  {
   "cell_type": "code",
   "execution_count": null,
   "metadata": {},
   "outputs": [],
   "source": [
    "region_df = pytrends.interest_by_region()\n",
    "region_df.head()"
   ]
  },
  {
   "cell_type": "markdown",
   "metadata": {},
   "source": [
    "#### Save dataframe to CSV\n",
    "\n",
    "A folder called 'data' needs to be added to the folder containing this Jupyter notebook before writing the file."
   ]
  },
  {
   "cell_type": "code",
   "execution_count": null,
   "metadata": {},
   "outputs": [],
   "source": [
    "region_df.to_csv('data/' + '{}_{}_{}_Google_Trends_By_Region'.format(kw_list[0].replace(' ', '_'), date_from, date_to).replace('-', '_') + '.csv')"
   ]
  },
  {
   "cell_type": "markdown",
   "metadata": {},
   "source": [
    "#### Filter Data for Plotting"
   ]
  },
  {
   "cell_type": "code",
   "execution_count": null,
   "metadata": {},
   "outputs": [],
   "source": [
    "# Select regions where all values are not equal to 0\n",
    "region_df = region_df[(region_df != 0)]\n",
    "# Drop all regions that have null values in all columns\n",
    "region_df.dropna(how='all',axis=0, inplace=True)\n",
    "region_df.head()"
   ]
  },
  {
   "cell_type": "code",
   "execution_count": null,
   "metadata": {},
   "outputs": [],
   "source": [
    "# Plot Interest by Region\n",
    "plt = region_df.plot.bar(figsize=(16, 9), y=kw_list, width = 0.8, title = 'Relative Search Interest by Region between {} and {} (Google Trends)'.format(date_from, date_to))\n",
    "plt.set_ylabel('Relative Search Interest')\n",
    "plt.set_xlabel('Region')\n",
    "plt.legend(loc='best')\n",
    "plt.tick_params(axis='both', which='major', labelsize=12)"
   ]
  },
  {
   "cell_type": "code",
   "execution_count": null,
   "metadata": {},
   "outputs": [],
   "source": []
  }
 ],
 "metadata": {
  "kernelspec": {
   "display_name": "Python 3 (ipykernel)",
   "language": "python",
   "name": "python3"
  },
  "language_info": {
   "codemirror_mode": {
    "name": "ipython",
    "version": 3
   },
   "file_extension": ".py",
   "mimetype": "text/x-python",
   "name": "python",
   "nbconvert_exporter": "python",
   "pygments_lexer": "ipython3",
   "version": "3.8.12"
  }
 },
 "nbformat": 4,
 "nbformat_minor": 4
}
