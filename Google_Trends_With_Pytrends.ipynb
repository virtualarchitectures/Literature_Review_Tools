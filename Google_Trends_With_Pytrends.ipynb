{
 "cells": [
  {
   "cell_type": "markdown",
   "metadata": {},
   "source": [
    "# Reviewing Trending Keywords on Google Trends"
   ]
  },
  {
   "cell_type": "markdown",
   "metadata": {},
   "source": [
    "Pytrends provides an interface for automating the download of reports from [Google Trends](https://trends.google.com/trends/).\n",
    "\n",
    "Google Trends provides data on the relative popularity of certain keywords dating back to 2004. For further information see the [Google Trends FAQ](https://support.google.com/trends/answer/4365533).\n",
    "\n",
    "**Installation**\n",
    "\n",
    "To use this notebook you need to install the Pytrends module from the command line using `pip install pytrends`.\n",
    "\n",
    "**Documentation**\n",
    "\n",
    "- Pytrends GitHub repository: https://github.com/GeneralMills/pytrends"
   ]
  },
  {
   "cell_type": "markdown",
   "metadata": {},
   "source": [
    "# Import Libraries"
   ]
  },
  {
   "cell_type": "code",
   "execution_count": null,
   "metadata": {},
   "outputs": [],
   "source": [
    "from pytrends.request import TrendReq\n",
    "import pandas as pd\n",
    "\n",
    "import matplotlib.pyplot as plt"
   ]
  },
  {
   "cell_type": "markdown",
   "metadata": {},
   "source": [
    "# Build Keyword List"
   ]
  },
  {
   "cell_type": "markdown",
   "metadata": {},
   "source": [
    "Google Trends allows a maximum of 5 keywords comparison at a time."
   ]
  },
  {
   "cell_type": "code",
   "execution_count": null,
   "metadata": {},
   "outputs": [],
   "source": [
    "pytrends = TrendReq()\n",
    "kw_list=['virtual reality', 'augmented reality', 'mixed reality']\n",
    "pytrends.build_payload(kw_list, timeframe='today 12-m')"
   ]
  },
  {
   "cell_type": "markdown",
   "metadata": {},
   "source": [
    "# Request Keyword Suggestions"
   ]
  },
  {
   "cell_type": "code",
   "execution_count": null,
   "metadata": {},
   "outputs": [],
   "source": [
    "pytrends.suggestions('virtual reality')"
   ]
  },
  {
   "cell_type": "markdown",
   "metadata": {},
   "source": [
    "# Request Interest Over Time"
   ]
  },
  {
   "cell_type": "code",
   "execution_count": null,
   "metadata": {},
   "outputs": [],
   "source": [
    "df = pytrends.interest_over_time()"
   ]
  },
  {
   "cell_type": "code",
   "execution_count": null,
   "metadata": {
    "scrolled": true
   },
   "outputs": [],
   "source": [
    "df.head()"
   ]
  },
  {
   "cell_type": "code",
   "execution_count": null,
   "metadata": {},
   "outputs": [],
   "source": [
    "dx = df.plot.line(figsize = (9,6), title = \"Interest Over Time\")\n",
    "dx.set_xlabel('Date')\n",
    "dx.set_ylabel('Trends Index')\n",
    "dx.tick_params(axis='both', which='major', labelsize=13)"
   ]
  },
  {
   "cell_type": "markdown",
   "metadata": {},
   "source": [
    "# Request Related Queries"
   ]
  },
  {
   "cell_type": "markdown",
   "metadata": {},
   "source": [
    "The output for related keywords is a dictionary of Pandas dataframes featuring both 'top' keywords and 'rising' keywords related to each keyword. The value of top keywords shows a Google Trends score from 0 to 100. The value of rising keywords shows how much interest in the keywords have increased in percentage."
   ]
  },
  {
   "cell_type": "code",
   "execution_count": null,
   "metadata": {},
   "outputs": [],
   "source": [
    "pytrends.related_queries()"
   ]
  },
  {
   "cell_type": "markdown",
   "metadata": {},
   "source": []
  }
 ],
 "metadata": {
  "kernelspec": {
   "display_name": "Python 3",
   "language": "python",
   "name": "python3"
  },
  "language_info": {
   "codemirror_mode": {
    "name": "ipython",
    "version": 3
   },
   "file_extension": ".py",
   "mimetype": "text/x-python",
   "name": "python",
   "nbconvert_exporter": "python",
   "pygments_lexer": "ipython3",
   "version": "3.8.5"
  }
 },
 "nbformat": 4,
 "nbformat_minor": 4
}
