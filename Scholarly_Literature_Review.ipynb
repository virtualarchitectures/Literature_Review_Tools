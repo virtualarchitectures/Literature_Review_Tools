{
 "cells": [
  {
   "cell_type": "markdown",
   "metadata": {},
   "source": [
    "# Automated Literature Review with Scholarly for Python"
   ]
  },
  {
   "cell_type": "markdown",
   "metadata": {},
   "source": [
    "Scholarly is a python module providing programmatic access to metadata from Google Scholar.\n",
    "\n",
    "#### Installation\n",
    "\n",
    "To use this notebook you need to install the Scholarly module from the command line using `pip install scholarly`.\n",
    "\n",
    "#### Documentation\n",
    "\n",
    "- Scholarly github repository: https://github.com/scholarly-python-package/scholarly\n",
    "- Scholarly documentation: https://scholarly.readthedocs.io/en/stable/\n",
    "\n",
    "#### Notes:\n",
    "\n",
    "1. Scholarly doesn't require an API key because it doesn't use an API.\n",
    "2. The module searches Google Scholar by using a query string and returning a generator-object which behaves like an iterator:https://www.geeksforgeeks.org/generators-in-python/\n",
    "3. Generator objects interact with Google Scholar dynamically and can be used either by calling the `next()` method on the generator object, or by using the generator object in a `for in` loop.\n",
    "\n",
    "**Important:** Google Scholar can often block scholarly. The most common solution for avoiding network issues is to use proxies. See the scholarly GitHub page for further information."
   ]
  },
  {
   "cell_type": "markdown",
   "metadata": {},
   "source": [
    "# Import libraries"
   ]
  },
  {
   "cell_type": "code",
   "execution_count": null,
   "metadata": {},
   "outputs": [],
   "source": [
    "from scholarly import scholarly\n",
    "import pandas as pd\n",
    "\n",
    "import time\n",
    "\n",
    "import matplotlib.pyplot as plt\n",
    "\n",
    "%matplotlib inline"
   ]
  },
  {
   "cell_type": "markdown",
   "metadata": {},
   "source": [
    "## Search for Author"
   ]
  },
  {
   "cell_type": "code",
   "execution_count": null,
   "metadata": {},
   "outputs": [],
   "source": [
    "print(next(scholarly.search_author('oliver dawkins')))"
   ]
  },
  {
   "cell_type": "markdown",
   "metadata": {},
   "source": [
    "#### Search for Author and fill details"
   ]
  },
  {
   "cell_type": "code",
   "execution_count": null,
   "metadata": {},
   "outputs": [],
   "source": [
    "# Retrieve the author's data, fill-in, and print\n",
    "search_query = scholarly.search_author('oliver dawkins')\n",
    "author = next(search_query).fill()\n",
    "print(author)"
   ]
  },
  {
   "cell_type": "markdown",
   "metadata": {},
   "source": [
    "## Search for Publications"
   ]
  },
  {
   "cell_type": "code",
   "execution_count": null,
   "metadata": {},
   "outputs": [],
   "source": [
    "#Search parameters\n",
    "search_term = 'digital twin'\n",
    "number_articles = 20"
   ]
  },
  {
   "cell_type": "markdown",
   "metadata": {},
   "source": [
    "#### Request Publications from Google Scholar"
   ]
  },
  {
   "cell_type": "code",
   "execution_count": null,
   "metadata": {},
   "outputs": [],
   "source": [
    "search_query = scholarly.search_pubs(search_term)"
   ]
  },
  {
   "cell_type": "markdown",
   "metadata": {},
   "source": [
    "#### Call the generator object in a loop and output to a dataframe"
   ]
  },
  {
   "cell_type": "code",
   "execution_count": null,
   "metadata": {},
   "outputs": [],
   "source": [
    "#Create a list of dataframes \n",
    "dfs = []\n",
    "\n",
    "#Convert each publication to a dataframe and add it to the list\n",
    "for i in range(number_articles):\n",
    "    pub = next(search_query).fill()\n",
    "    dfs.append(pd.DataFrame.from_dict(pub.bib))\n",
    "    \n",
    "    #Debug logging\n",
    "    print('Added 1 publication: ' + pub.bib[\"title\"])\n",
    "    \n",
    "    #Wait time in secs before calling for next article\n",
    "    time.sleep(2)\n",
    "    \n",
    "print('Concatenating Dataframes')\n",
    "\n",
    "#Concatenate the articles into a single dataframe\n",
    "df = pd.concat(dfs, sort=False)\n",
    "\n",
    "print('done')"
   ]
  },
  {
   "cell_type": "markdown",
   "metadata": {},
   "source": [
    "#### Display the dataframe and summary statistics"
   ]
  },
  {
   "cell_type": "code",
   "execution_count": null,
   "metadata": {},
   "outputs": [],
   "source": [
    "#Dataframe head\n",
    "df.head()"
   ]
  },
  {
   "cell_type": "code",
   "execution_count": null,
   "metadata": {},
   "outputs": [],
   "source": [
    "#Summary information\n",
    "df.info()"
   ]
  },
  {
   "cell_type": "code",
   "execution_count": null,
   "metadata": {},
   "outputs": [],
   "source": [
    "#Unique publications\n",
    "len(df['ID'].unique())"
   ]
  },
  {
   "cell_type": "code",
   "execution_count": null,
   "metadata": {},
   "outputs": [],
   "source": [
    "#Publication provenance\n",
    "provenance_table = df.groupby(['ID', 'journal']).size().reset_index()\n",
    "provenance_table = provenance_table.groupby('journal').size()\n",
    "provenance_table"
   ]
  },
  {
   "cell_type": "markdown",
   "metadata": {},
   "source": [
    "#### Display Unique Publications per Year"
   ]
  },
  {
   "cell_type": "code",
   "execution_count": null,
   "metadata": {},
   "outputs": [],
   "source": [
    "articles_per_year = df.groupby(['ID', 'year']).size().reset_index().groupby('year').size()\n",
    "\n",
    "fig, ax = plt.subplots(figsize = (10, 5))\n",
    "\n",
    "plt.title('Total Articles per Year', fontsize = 20)\n",
    "plt.ylabel('Number of Records', fontsize = 10); \n",
    "\n",
    "ax.plot(articles_per_year, zorder = 1, linewidth = 3)\n",
    "\n",
    "plt.yticks(fontsize = 10)\n",
    "plt.xticks(fontsize = 10, rotation = 90); \n",
    "\n",
    "plt.show()"
   ]
  },
  {
   "cell_type": "markdown",
   "metadata": {},
   "source": [
    "#### Save dataframe to CSV"
   ]
  },
  {
   "cell_type": "code",
   "execution_count": null,
   "metadata": {},
   "outputs": [],
   "source": [
    "df.to_csv('../software_data.csv')"
   ]
  },
  {
   "cell_type": "markdown",
   "metadata": {},
   "source": [
    "#### Clear dataframe"
   ]
  },
  {
   "cell_type": "code",
   "execution_count": null,
   "metadata": {},
   "outputs": [],
   "source": [
    "del df"
   ]
  },
  {
   "cell_type": "code",
   "execution_count": null,
   "metadata": {},
   "outputs": [],
   "source": []
  }
 ],
 "metadata": {
  "kernelspec": {
   "display_name": "Python 3",
   "language": "python",
   "name": "python3"
  },
  "language_info": {
   "codemirror_mode": {
    "name": "ipython",
    "version": 3
   },
   "file_extension": ".py",
   "mimetype": "text/x-python",
   "name": "python",
   "nbconvert_exporter": "python",
   "pygments_lexer": "ipython3",
   "version": "3.7.3"
  }
 },
 "nbformat": 4,
 "nbformat_minor": 2
}
