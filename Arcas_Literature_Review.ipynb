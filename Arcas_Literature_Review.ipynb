{
 "cells": [
  {
   "cell_type": "markdown",
   "metadata": {},
   "source": [
    "# Automated Literature Review with Arcas for Python"
   ]
  },
  {
   "cell_type": "markdown",
   "metadata": {},
   "source": [
    "Arcas is a python module providing programmatic access to metadata from the following journals:\n",
    "- IEEE (10 calls per minute / 200 calls per day)\n",
    "- PLOS\n",
    "- Nature\n",
    "- Springer\n",
    "- arXiv\n",
    "\n",
    "#### Installation\n",
    "\n",
    "To use this notebook you need to install the Arcas module from the command line using `pip install arcas`.\n",
    "\n",
    "#### Documentation\n",
    "\n",
    "- Arcas GitHub repository: https://github.com/ArcasProject/Arcas\n",
    "- Arcas documentation: http://arcas.readthedocs.io/en/latest/index.html\n",
    "\n",
    "The Arcas module provides for search using the following parameters:\n",
    "- `author` - Searches both first name and last name.\n",
    "- `title` - Locate documents containing a word or phrase in the “article title” element.\n",
    "- `abstract` - Locate documents containing a word or phrase in the “abstract” element.\n",
    "- `year` - The value for publication year.\n",
    "- `category` - Allows users to search the by keywords given to an article.\n",
    "- `journal` - Locate documents containing a word or phrase in the “full journal/publication title” element.\n",
    "- `records` - The number of records to fetch.\n",
    "- `start` - Sequence number of first record to fetch.\n",
    "\n",
    "**Notes:** \n",
    "\n",
    "1. Arcas can fail if the queried API returns no results (e.g. the Nature API). Its worth querying for a single result before performing a larger searches.\n",
    "2. Arcas returns multiple entries for each paper because it creates a separate row for each author on a paper.\n",
    "3. Currently, the following APIs require you to register for an API key:\n",
    "\n",
    "    - IEEE Xplore: https://developer.ieee.org/member/register\n",
    "    - Springer Open Access API: https://dev.springernature.com/login\n",
    "\n",
    "The API keys currently have to be added to files within the module source code: https://arcas.readthedocs.io/en/latest/Guides/api_key.html"
   ]
  },
  {
   "cell_type": "markdown",
   "metadata": {},
   "source": [
    "# Import libraries"
   ]
  },
  {
   "cell_type": "code",
   "execution_count": null,
   "metadata": {},
   "outputs": [],
   "source": [
    "import arcas\n",
    "import pandas as pd\n",
    "import matplotlib.pyplot as plt\n",
    "\n",
    "%matplotlib inline"
   ]
  },
  {
   "cell_type": "markdown",
   "metadata": {},
   "source": [
    "# Request articles from a single source"
   ]
  },
  {
   "cell_type": "code",
   "execution_count": 77,
   "metadata": {},
   "outputs": [],
   "source": [
    "# Comment or uncomment one journal entry as required\n",
    "api = arcas.Arxiv()\n",
    "#api = arcas.Ieee() #requires api key\n",
    "#api = arcas.Nature()\n",
    "#api = arcas.Plos()\n",
    "#api = arcas.Springer() #requires api key\n",
    "\n",
    "# Sprecify search criteria\n",
    "search_term = 'virtual reality'\n",
    "number_articles = 1"
   ]
  },
  {
   "cell_type": "markdown",
   "metadata": {},
   "source": [
    "#### Set request parameters and format url"
   ]
  },
  {
   "cell_type": "code",
   "execution_count": 78,
   "metadata": {},
   "outputs": [
    {
     "name": "stdout",
     "output_type": "stream",
     "text": [
      "http://export.arxiv.org/api/query?search_query=ti:Virtual Reality&abs:Virtual Reality&max_results=1\n"
     ]
    }
   ],
   "source": [
    "parameters = api.parameters_fix(title = search_term, abstract = search_term, records = number_articles)\n",
    "url = api.create_url_search(parameters)"
   ]
  },
  {
   "cell_type": "markdown",
   "metadata": {},
   "source": [
    "#### Make API request"
   ]
  },
  {
   "cell_type": "code",
   "execution_count": 79,
   "metadata": {},
   "outputs": [],
   "source": [
    "request = api.make_request(url)\n",
    "root = api.get_root(request)\n",
    "raw_articles = api.parse(root)"
   ]
  },
  {
   "cell_type": "markdown",
   "metadata": {},
   "source": [
    "#### Check raw article output"
   ]
  },
  {
   "cell_type": "code",
   "execution_count": 80,
   "metadata": {},
   "outputs": [
    {
     "name": "stdout",
     "output_type": "stream",
     "text": [
      "{'entry': '\\n    ', 'id': 'http://arxiv.org/abs/0903.4314v1', 'updated': '2009-03-25T12:16:29Z', 'published': '2009-03-25T12:16:29Z', 'title': 'Virtual Reality', 'summary': '  This paper is focused on the presentation of Virtual Reality principles\\ntogether with the main implementation methods and techniques. An overview of\\nthe main development directions is included.\\n', 'author': '\\n      , \\n      ', 'name': 'Dan L. Lacrama, Dorina Fera', 'comment': '8 pages, exposed on 4th International Conferences \"Actualities and\\n  Perspectives on Hardware and Software\" - APHS2007, Timisoara, Romania', 'journal_ref': 'Ann. Univ. Tibiscus Comp. Sci. Series V (2007), 137-144', 'link': None, 'primary_category': None, 'category': None}\n"
     ]
    }
   ],
   "source": [
    "print(raw_articles[0])"
   ]
  },
  {
   "cell_type": "markdown",
   "metadata": {},
   "source": [
    "#### Loop through raw response and output to dataframe"
   ]
  },
  {
   "cell_type": "code",
   "execution_count": 81,
   "metadata": {},
   "outputs": [],
   "source": [
    "#Create a list of dataframes \n",
    "dfs = []\n",
    "\n",
    "#Convert each article to a dataframe and add it to the list\n",
    "for art in raw_articles:\n",
    "    article = api.to_dataframe(art)\n",
    "    dfs.append(article)\n",
    "    \n",
    "#Concatenate the articles into a single dataframe\n",
    "df = pd.concat(dfs, sort=False)"
   ]
  },
  {
   "cell_type": "markdown",
   "metadata": {},
   "source": [
    "#### Display the dataframe and summary statistics"
   ]
  },
  {
   "cell_type": "code",
   "execution_count": 82,
   "metadata": {},
   "outputs": [
    {
     "data": {
      "text/html": [
       "<div>\n",
       "<style scoped>\n",
       "    .dataframe tbody tr th:only-of-type {\n",
       "        vertical-align: middle;\n",
       "    }\n",
       "\n",
       "    .dataframe tbody tr th {\n",
       "        vertical-align: top;\n",
       "    }\n",
       "\n",
       "    .dataframe thead th {\n",
       "        text-align: right;\n",
       "    }\n",
       "</style>\n",
       "<table border=\"1\" class=\"dataframe\">\n",
       "  <thead>\n",
       "    <tr style=\"text-align: right;\">\n",
       "      <th></th>\n",
       "      <th>url</th>\n",
       "      <th>key</th>\n",
       "      <th>unique_key</th>\n",
       "      <th>title</th>\n",
       "      <th>author</th>\n",
       "      <th>abstract</th>\n",
       "      <th>doi</th>\n",
       "      <th>date</th>\n",
       "      <th>journal</th>\n",
       "      <th>provenance</th>\n",
       "      <th>primary_category</th>\n",
       "      <th>category</th>\n",
       "      <th>score</th>\n",
       "      <th>open_access</th>\n",
       "    </tr>\n",
       "  </thead>\n",
       "  <tbody>\n",
       "    <tr>\n",
       "      <th>0</th>\n",
       "      <td>http://arxiv.org/abs/0903.4314v1</td>\n",
       "      <td>Lacrama2009</td>\n",
       "      <td>8eba088bb4f70fb7142301746ca6887e</td>\n",
       "      <td>Virtual Reality</td>\n",
       "      <td>Dan L. Lacrama</td>\n",
       "      <td>This paper is focused on the presentation of...</td>\n",
       "      <td>None</td>\n",
       "      <td>2009</td>\n",
       "      <td>Ann. Univ. Tibiscus Comp. Sci. Series V (2007)...</td>\n",
       "      <td>arXiv</td>\n",
       "      <td>None</td>\n",
       "      <td>None</td>\n",
       "      <td>Not available</td>\n",
       "      <td>True</td>\n",
       "    </tr>\n",
       "    <tr>\n",
       "      <th>1</th>\n",
       "      <td>http://arxiv.org/abs/0903.4314v1</td>\n",
       "      <td>Lacrama2009</td>\n",
       "      <td>8eba088bb4f70fb7142301746ca6887e</td>\n",
       "      <td>Virtual Reality</td>\n",
       "      <td>Dorina Fera</td>\n",
       "      <td>This paper is focused on the presentation of...</td>\n",
       "      <td>None</td>\n",
       "      <td>2009</td>\n",
       "      <td>Ann. Univ. Tibiscus Comp. Sci. Series V (2007)...</td>\n",
       "      <td>arXiv</td>\n",
       "      <td>None</td>\n",
       "      <td>None</td>\n",
       "      <td>Not available</td>\n",
       "      <td>True</td>\n",
       "    </tr>\n",
       "  </tbody>\n",
       "</table>\n",
       "</div>"
      ],
      "text/plain": [
       "                                url          key  \\\n",
       "0  http://arxiv.org/abs/0903.4314v1  Lacrama2009   \n",
       "1  http://arxiv.org/abs/0903.4314v1  Lacrama2009   \n",
       "\n",
       "                         unique_key            title          author  \\\n",
       "0  8eba088bb4f70fb7142301746ca6887e  Virtual Reality  Dan L. Lacrama   \n",
       "1  8eba088bb4f70fb7142301746ca6887e  Virtual Reality     Dorina Fera   \n",
       "\n",
       "                                            abstract   doi  date  \\\n",
       "0    This paper is focused on the presentation of...  None  2009   \n",
       "1    This paper is focused on the presentation of...  None  2009   \n",
       "\n",
       "                                             journal provenance  \\\n",
       "0  Ann. Univ. Tibiscus Comp. Sci. Series V (2007)...      arXiv   \n",
       "1  Ann. Univ. Tibiscus Comp. Sci. Series V (2007)...      arXiv   \n",
       "\n",
       "  primary_category category          score  open_access  \n",
       "0             None     None  Not available         True  \n",
       "1             None     None  Not available         True  "
      ]
     },
     "execution_count": 82,
     "metadata": {},
     "output_type": "execute_result"
    }
   ],
   "source": [
    "#Dataframe head\n",
    "df.head()"
   ]
  },
  {
   "cell_type": "code",
   "execution_count": 83,
   "metadata": {},
   "outputs": [
    {
     "name": "stdout",
     "output_type": "stream",
     "text": [
      "<class 'pandas.core.frame.DataFrame'>\n",
      "RangeIndex: 2 entries, 0 to 1\n",
      "Data columns (total 14 columns):\n",
      "url                 2 non-null object\n",
      "key                 2 non-null object\n",
      "unique_key          2 non-null object\n",
      "title               2 non-null object\n",
      "author              2 non-null object\n",
      "abstract            2 non-null object\n",
      "doi                 0 non-null object\n",
      "date                2 non-null int64\n",
      "journal             2 non-null object\n",
      "provenance          2 non-null object\n",
      "primary_category    0 non-null object\n",
      "category            0 non-null object\n",
      "score               2 non-null object\n",
      "open_access         2 non-null bool\n",
      "dtypes: bool(1), int64(1), object(12)\n",
      "memory usage: 290.0+ bytes\n"
     ]
    }
   ],
   "source": [
    "#Summary information\n",
    "df.info()"
   ]
  },
  {
   "cell_type": "code",
   "execution_count": 84,
   "metadata": {},
   "outputs": [
    {
     "data": {
      "text/plain": [
       "1"
      ]
     },
     "execution_count": 84,
     "metadata": {},
     "output_type": "execute_result"
    }
   ],
   "source": [
    "#Unique articles\n",
    "len(df['unique_key'].unique())"
   ]
  },
  {
   "cell_type": "markdown",
   "metadata": {},
   "source": [
    "#### Save dataframe to CSV"
   ]
  },
  {
   "cell_type": "code",
   "execution_count": 85,
   "metadata": {},
   "outputs": [],
   "source": [
    "df.to_csv('../software_data.csv')"
   ]
  },
  {
   "cell_type": "markdown",
   "metadata": {},
   "source": [
    "#### Delete dataframe"
   ]
  },
  {
   "cell_type": "code",
   "execution_count": 86,
   "metadata": {},
   "outputs": [],
   "source": [
    "del df"
   ]
  },
  {
   "cell_type": "markdown",
   "metadata": {},
   "source": [
    "# Request articles from multiple sources"
   ]
  },
  {
   "cell_type": "code",
   "execution_count": 87,
   "metadata": {},
   "outputs": [],
   "source": [
    "# Sprecify search criteria\n",
    "search_term = 'augmented reality'\n",
    "number_articles = 200"
   ]
  },
  {
   "cell_type": "code",
   "execution_count": 88,
   "metadata": {},
   "outputs": [
    {
     "name": "stderr",
     "output_type": "stream",
     "text": [
      "C:\\Users\\olive\\Anaconda3\\lib\\site-packages\\urllib3\\connectionpool.py:847: InsecureRequestWarning: Unverified HTTPS request is being made. Adding certificate verification is strongly advised. See: https://urllib3.readthedocs.io/en/latest/advanced-usage.html#ssl-warnings\n",
      "  InsecureRequestWarning)\n",
      "C:\\Users\\olive\\Anaconda3\\lib\\site-packages\\urllib3\\connectionpool.py:847: InsecureRequestWarning: Unverified HTTPS request is being made. Adding certificate verification is strongly advised. See: https://urllib3.readthedocs.io/en/latest/advanced-usage.html#ssl-warnings\n",
      "  InsecureRequestWarning)\n"
     ]
    },
    {
     "name": "stdout",
     "output_type": "stream",
     "text": [
      "Springer does not support argument abstract.\n",
      "\n",
      "Springer does not support argument abstract.\n",
      "\n"
     ]
    }
   ],
   "source": [
    "#Create a list of dataframes \n",
    "dfs = []\n",
    "\n",
    "#Loop through each API and request articles\n",
    "for p in [arcas.Arxiv, arcas.Ieee, arcas.Plos, arcas.Springer]:\n",
    "    for start in range(2):\n",
    "        api = p()\n",
    "        parameters = api.parameters_fix(title = search_term, abstract = search_term, records = number_articles, start = (start * number_articles))\n",
    "        url = api.create_url_search(parameters)\n",
    "        request = api.make_request(url)\n",
    "        root = api.get_root(request)\n",
    "        raw_articles = api.parse(root)\n",
    "        \n",
    "        #Convert each article to a dataframe and add it to the list\n",
    "        for art in raw_articles:\n",
    "            article = api.to_dataframe(art)\n",
    "            dfs.append(article)\n",
    "            \n",
    "#Concatenate the articles into a single dataframe\n",
    "df = pd.concat(dfs, sort = False)"
   ]
  },
  {
   "cell_type": "markdown",
   "metadata": {},
   "source": [
    "#### Display the dataframe and summary statistics"
   ]
  },
  {
   "cell_type": "code",
   "execution_count": 89,
   "metadata": {},
   "outputs": [
    {
     "data": {
      "text/html": [
       "<div>\n",
       "<style scoped>\n",
       "    .dataframe tbody tr th:only-of-type {\n",
       "        vertical-align: middle;\n",
       "    }\n",
       "\n",
       "    .dataframe tbody tr th {\n",
       "        vertical-align: top;\n",
       "    }\n",
       "\n",
       "    .dataframe thead th {\n",
       "        text-align: right;\n",
       "    }\n",
       "</style>\n",
       "<table border=\"1\" class=\"dataframe\">\n",
       "  <thead>\n",
       "    <tr style=\"text-align: right;\">\n",
       "      <th></th>\n",
       "      <th>url</th>\n",
       "      <th>key</th>\n",
       "      <th>unique_key</th>\n",
       "      <th>title</th>\n",
       "      <th>author</th>\n",
       "      <th>abstract</th>\n",
       "      <th>doi</th>\n",
       "      <th>date</th>\n",
       "      <th>journal</th>\n",
       "      <th>provenance</th>\n",
       "      <th>primary_category</th>\n",
       "      <th>category</th>\n",
       "      <th>score</th>\n",
       "      <th>open_access</th>\n",
       "    </tr>\n",
       "  </thead>\n",
       "  <tbody>\n",
       "    <tr>\n",
       "      <th>0</th>\n",
       "      <td>http://arxiv.org/abs/1106.5571v1</td>\n",
       "      <td>Prochazka2011</td>\n",
       "      <td>77400c97e08de5230f40638208a5a860</td>\n",
       "      <td>Mobile Augmented Reality Applications</td>\n",
       "      <td>David Prochazka</td>\n",
       "      <td>Augmented reality have undergone considerabl...</td>\n",
       "      <td>None</td>\n",
       "      <td>2011</td>\n",
       "      <td>Proceedings of Mendel 2011: 17th International...</td>\n",
       "      <td>arXiv</td>\n",
       "      <td>None</td>\n",
       "      <td>None</td>\n",
       "      <td>Not available</td>\n",
       "      <td>True</td>\n",
       "    </tr>\n",
       "    <tr>\n",
       "      <th>1</th>\n",
       "      <td>http://arxiv.org/abs/1106.5571v1</td>\n",
       "      <td>Prochazka2011</td>\n",
       "      <td>77400c97e08de5230f40638208a5a860</td>\n",
       "      <td>Mobile Augmented Reality Applications</td>\n",
       "      <td>Michael Stencl</td>\n",
       "      <td>Augmented reality have undergone considerabl...</td>\n",
       "      <td>None</td>\n",
       "      <td>2011</td>\n",
       "      <td>Proceedings of Mendel 2011: 17th International...</td>\n",
       "      <td>arXiv</td>\n",
       "      <td>None</td>\n",
       "      <td>None</td>\n",
       "      <td>Not available</td>\n",
       "      <td>True</td>\n",
       "    </tr>\n",
       "    <tr>\n",
       "      <th>2</th>\n",
       "      <td>http://arxiv.org/abs/1106.5571v1</td>\n",
       "      <td>Prochazka2011</td>\n",
       "      <td>77400c97e08de5230f40638208a5a860</td>\n",
       "      <td>Mobile Augmented Reality Applications</td>\n",
       "      <td>Ondrej Popelka</td>\n",
       "      <td>Augmented reality have undergone considerabl...</td>\n",
       "      <td>None</td>\n",
       "      <td>2011</td>\n",
       "      <td>Proceedings of Mendel 2011: 17th International...</td>\n",
       "      <td>arXiv</td>\n",
       "      <td>None</td>\n",
       "      <td>None</td>\n",
       "      <td>Not available</td>\n",
       "      <td>True</td>\n",
       "    </tr>\n",
       "    <tr>\n",
       "      <th>3</th>\n",
       "      <td>http://arxiv.org/abs/1106.5571v1</td>\n",
       "      <td>Prochazka2011</td>\n",
       "      <td>77400c97e08de5230f40638208a5a860</td>\n",
       "      <td>Mobile Augmented Reality Applications</td>\n",
       "      <td>Jiri Stastny</td>\n",
       "      <td>Augmented reality have undergone considerabl...</td>\n",
       "      <td>None</td>\n",
       "      <td>2011</td>\n",
       "      <td>Proceedings of Mendel 2011: 17th International...</td>\n",
       "      <td>arXiv</td>\n",
       "      <td>None</td>\n",
       "      <td>None</td>\n",
       "      <td>Not available</td>\n",
       "      <td>True</td>\n",
       "    </tr>\n",
       "    <tr>\n",
       "      <th>0</th>\n",
       "      <td>http://arxiv.org/abs/1508.02606v1</td>\n",
       "      <td>Hu2015</td>\n",
       "      <td>47d2aba5ea0b9620e4238564c2fd9614</td>\n",
       "      <td>InAR:Inverse Augmented Reality</td>\n",
       "      <td>Hao Hu</td>\n",
       "      <td>Augmented reality is the art to seamlessly f...</td>\n",
       "      <td>None</td>\n",
       "      <td>2015</td>\n",
       "      <td>arXiv</td>\n",
       "      <td>arXiv</td>\n",
       "      <td>None</td>\n",
       "      <td>None</td>\n",
       "      <td>Not available</td>\n",
       "      <td>True</td>\n",
       "    </tr>\n",
       "  </tbody>\n",
       "</table>\n",
       "</div>"
      ],
      "text/plain": [
       "                                 url            key  \\\n",
       "0   http://arxiv.org/abs/1106.5571v1  Prochazka2011   \n",
       "1   http://arxiv.org/abs/1106.5571v1  Prochazka2011   \n",
       "2   http://arxiv.org/abs/1106.5571v1  Prochazka2011   \n",
       "3   http://arxiv.org/abs/1106.5571v1  Prochazka2011   \n",
       "0  http://arxiv.org/abs/1508.02606v1         Hu2015   \n",
       "\n",
       "                         unique_key                                  title  \\\n",
       "0  77400c97e08de5230f40638208a5a860  Mobile Augmented Reality Applications   \n",
       "1  77400c97e08de5230f40638208a5a860  Mobile Augmented Reality Applications   \n",
       "2  77400c97e08de5230f40638208a5a860  Mobile Augmented Reality Applications   \n",
       "3  77400c97e08de5230f40638208a5a860  Mobile Augmented Reality Applications   \n",
       "0  47d2aba5ea0b9620e4238564c2fd9614         InAR:Inverse Augmented Reality   \n",
       "\n",
       "            author                                           abstract   doi  \\\n",
       "0  David Prochazka    Augmented reality have undergone considerabl...  None   \n",
       "1   Michael Stencl    Augmented reality have undergone considerabl...  None   \n",
       "2   Ondrej Popelka    Augmented reality have undergone considerabl...  None   \n",
       "3     Jiri Stastny    Augmented reality have undergone considerabl...  None   \n",
       "0           Hao Hu    Augmented reality is the art to seamlessly f...  None   \n",
       "\n",
       "   date                                            journal provenance  \\\n",
       "0  2011  Proceedings of Mendel 2011: 17th International...      arXiv   \n",
       "1  2011  Proceedings of Mendel 2011: 17th International...      arXiv   \n",
       "2  2011  Proceedings of Mendel 2011: 17th International...      arXiv   \n",
       "3  2011  Proceedings of Mendel 2011: 17th International...      arXiv   \n",
       "0  2015                                              arXiv      arXiv   \n",
       "\n",
       "  primary_category category          score open_access  \n",
       "0             None     None  Not available        True  \n",
       "1             None     None  Not available        True  \n",
       "2             None     None  Not available        True  \n",
       "3             None     None  Not available        True  \n",
       "0             None     None  Not available        True  "
      ]
     },
     "execution_count": 89,
     "metadata": {},
     "output_type": "execute_result"
    }
   ],
   "source": [
    "#Dataframe head\n",
    "df.head()"
   ]
  },
  {
   "cell_type": "code",
   "execution_count": 90,
   "metadata": {},
   "outputs": [
    {
     "name": "stdout",
     "output_type": "stream",
     "text": [
      "<class 'pandas.core.frame.DataFrame'>\n",
      "Int64Index: 8551 entries, 0 to 4\n",
      "Data columns (total 14 columns):\n",
      "url                 7503 non-null object\n",
      "key                 8551 non-null object\n",
      "unique_key          8551 non-null object\n",
      "title               8551 non-null object\n",
      "author              8551 non-null object\n",
      "abstract            8548 non-null object\n",
      "doi                 7108 non-null object\n",
      "date                8450 non-null object\n",
      "journal             8551 non-null object\n",
      "provenance          8551 non-null object\n",
      "primary_category    0 non-null object\n",
      "category            7056 non-null object\n",
      "score               8551 non-null object\n",
      "open_access         8551 non-null object\n",
      "dtypes: object(14)\n",
      "memory usage: 1002.1+ KB\n"
     ]
    }
   ],
   "source": [
    "#Summary information\n",
    "df.info()"
   ]
  },
  {
   "cell_type": "code",
   "execution_count": 91,
   "metadata": {},
   "outputs": [
    {
     "data": {
      "text/plain": [
       "913"
      ]
     },
     "execution_count": 91,
     "metadata": {},
     "output_type": "execute_result"
    }
   ],
   "source": [
    "#Unique articles\n",
    "len(df['unique_key'].unique())"
   ]
  },
  {
   "cell_type": "code",
   "execution_count": 92,
   "metadata": {},
   "outputs": [
    {
     "data": {
      "text/plain": [
       "provenance\n",
       "IEEE        397\n",
       "PLOS         16\n",
       "Springer    100\n",
       "arXiv       400\n",
       "dtype: int64"
      ]
     },
     "execution_count": 92,
     "metadata": {},
     "output_type": "execute_result"
    }
   ],
   "source": [
    "#Article provenance\n",
    "provenance_table = df.groupby(['unique_key', \n",
    "                               'provenance']).size().reset_index()\n",
    "provenance_table = provenance_table.groupby('provenance').size()\n",
    "provenance_table"
   ]
  },
  {
   "cell_type": "markdown",
   "metadata": {},
   "source": [
    "#### Display Unique Articles per Year by Provenance"
   ]
  },
  {
   "cell_type": "code",
   "execution_count": 93,
   "metadata": {},
   "outputs": [
    {
     "data": {
      "image/png": "[encoded data removed]",
      "text/plain": [
       "<Figure size 720x360 with 1 Axes>"
      ]
     },
     "metadata": {
      "needs_background": "light"
     },
     "output_type": "display_data"
    }
   ],
   "source": [
    "prov_per_year = df.groupby(['unique_key','provenance', \n",
    "                      'date']).size().reset_index()\n",
    "prov_per_year = prov_per_year.groupby(['provenance', 'date']).size()\n",
    "\n",
    "\n",
    "fig = plt.figure(figsize = (10, 5))\n",
    "\n",
    "plt.title('Articles per Year by Provenance', fontsize = 20)\n",
    "plt.ylabel('Number of records', fontsize = 10); \n",
    "\n",
    "plt.yticks(fontsize = 10)\n",
    "plt.xticks(fontsize = 10, rotation = 90); \n",
    "    \n",
    "plt.plot(prov_per_year['arXiv'], linestyle = '--', label = \"arXiv\", linewidth = 3)\n",
    "plt.plot(prov_per_year['IEEE'], linestyle = '--', label = \"IEEE\", linewidth = 3)\n",
    "plt.plot(prov_per_year['PLOS'], linestyle = '--',label = \"PLOS\", linewidth = 3)\n",
    "plt.plot(prov_per_year['Springer'], linestyle = '--', label = \"Springer\", linewidth = 3)\n",
    "\n",
    "plt.legend(loc = 2, borderaxespad = 1, fontsize = 10)\n",
    "plt.show()"
   ]
  },
  {
   "cell_type": "markdown",
   "metadata": {},
   "source": [
    "#### Display Unique Articles per Year"
   ]
  },
  {
   "cell_type": "code",
   "execution_count": 94,
   "metadata": {},
   "outputs": [
    {
     "data": {
      "image/png": "[encoded data removed]",
      "text/plain": [
       "<Figure size 720x360 with 1 Axes>"
      ]
     },
     "metadata": {
      "needs_background": "light"
     },
     "output_type": "display_data"
    }
   ],
   "source": [
    "articles_per_year = df.groupby(['unique_key', 'date']).size().reset_index().groupby('date').size()\n",
    "\n",
    "fig, ax = plt.subplots(figsize = (10, 5))\n",
    "\n",
    "plt.title('Total Articles per Year', fontsize = 20)\n",
    "plt.ylabel('Number of Records', fontsize = 10); \n",
    "\n",
    "ax.plot(articles_per_year, zorder = 1, linewidth = 3)\n",
    "\n",
    "plt.yticks(fontsize = 10)\n",
    "plt.xticks(fontsize = 10, rotation = 90); \n",
    "\n",
    "plt.show()"
   ]
  },
  {
   "cell_type": "markdown",
   "metadata": {},
   "source": [
    "#### Save dataframe to CSV"
   ]
  },
  {
   "cell_type": "code",
   "execution_count": 95,
   "metadata": {},
   "outputs": [],
   "source": [
    "df.to_csv('../software_data.csv')"
   ]
  },
  {
   "cell_type": "markdown",
   "metadata": {},
   "source": [
    "#### Clear dataframe"
   ]
  },
  {
   "cell_type": "code",
   "execution_count": 17,
   "metadata": {},
   "outputs": [],
   "source": [
    "del df"
   ]
  },
  {
   "cell_type": "code",
   "execution_count": null,
   "metadata": {},
   "outputs": [],
   "source": []
  }
 ],
 "metadata": {
  "kernelspec": {
   "display_name": "Python 3",
   "language": "python",
   "name": "python3"
  },
  "language_info": {
   "codemirror_mode": {
    "name": "ipython",
    "version": 3
   },
   "file_extension": ".py",
   "mimetype": "text/x-python",
   "name": "python",
   "nbconvert_exporter": "python",
   "pygments_lexer": "ipython3",
   "version": "3.8.5"
  }
 },
 "nbformat": 4,
 "nbformat_minor": 2
}
